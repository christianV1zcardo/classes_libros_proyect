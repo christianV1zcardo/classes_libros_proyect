{
 "cells": [
  {
   "cell_type": "code",
   "execution_count": 176,
   "id": "d9030443",
   "metadata": {},
   "outputs": [],
   "source": [
    "import clases\n",
    "import importlib\n",
    "\n",
    "importlib.reload(clases)\n",
    "from clases import Biblioteca"
   ]
  },
  {
   "cell_type": "code",
   "execution_count": 177,
   "id": "06fa7225",
   "metadata": {},
   "outputs": [
    {
     "name": "stdout",
     "output_type": "stream",
     "text": [
      "Biblioteca creada\n",
      "Libro 'The Climber' añadido correctamente a la biblioteca!\n",
      "Libro 'Vagabond' añadido correctamente a la biblioteca!\n",
      "Libro '12 Reglas para la Vida' añadido correctamente a la biblioteca!\n"
     ]
    }
   ],
   "source": [
    "# Creación de un par de libros\n",
    "\n",
    "bib = Biblioteca()\n",
    "\n",
    "bib.añadir_libro('The Climber', 'Un autor desconocido', '213-3213')\n",
    "bib.añadir_libro('Vagabond', 'Takehijo Inoue', '23165-153841')\n",
    "bib.añadir_libro('12 Reglas para la Vida', 'Jordan Peterson', '651651-6516')"
   ]
  },
  {
   "cell_type": "code",
   "execution_count": 178,
   "id": "a732ca39",
   "metadata": {},
   "outputs": [
    {
     "name": "stdout",
     "output_type": "stream",
     "text": [
      "El libro 'Vagabond' fue prestado a Cliente\n",
      "El libro 'The Climber' fue prestado a Cliente\n",
      "El libro 'test' no se encuentra disponible.\n"
     ]
    }
   ],
   "source": [
    "bib.prestar_libro('Vagabond')\n",
    "bib.prestar_libro('The Climber')\n",
    "bib.prestar_libro('test')"
   ]
  },
  {
   "cell_type": "code",
   "execution_count": 179,
   "id": "df6fd0d1",
   "metadata": {},
   "outputs": [
    {
     "name": "stdout",
     "output_type": "stream",
     "text": [
      "El libro 'Vagabond' fue devuelto por Cliente\n",
      "El libro 'test' no nos pertenece.\n"
     ]
    }
   ],
   "source": [
    "bib.devolver_libro('Vagabond')\n",
    "bib.devolver_libro('test')"
   ]
  },
  {
   "cell_type": "code",
   "execution_count": 180,
   "id": "2568094b",
   "metadata": {},
   "outputs": [
    {
     "name": "stdout",
     "output_type": "stream",
     "text": [
      "Estos son los 2 libros que tenemos disponibles:\n",
      "\n",
      "- 12 Reglas para la Vida\n",
      "- Vagabond\n",
      "\n",
      "Estos son 3 los libros que nos pertenecen, entre prestados y disponibles\n",
      "- The Climber\n",
      "- Vagabond\n",
      "- 12 Reglas para la Vida\n"
     ]
    }
   ],
   "source": [
    "bib.listar_libros_disponibles()\n",
    "bib.listar_todos_los_libros()"
   ]
  }
 ],
 "metadata": {
  "kernelspec": {
   "display_name": "venv",
   "language": "python",
   "name": "python3"
  },
  "language_info": {
   "codemirror_mode": {
    "name": "ipython",
    "version": 3
   },
   "file_extension": ".py",
   "mimetype": "text/x-python",
   "name": "python",
   "nbconvert_exporter": "python",
   "pygments_lexer": "ipython3",
   "version": "3.13.3"
  }
 },
 "nbformat": 4,
 "nbformat_minor": 5
}
